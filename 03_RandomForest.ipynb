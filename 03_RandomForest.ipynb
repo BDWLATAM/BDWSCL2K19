{
 "cells": [
  {
   "cell_type": "markdown",
   "metadata": {},
   "source": [
    "## Extender lógicas de limpieza utilizando Random Forest\n",
    "\n",
    "### 1.Introducción\n",
    "Existen técnicas de machine learning que dan buenos resultados detectando anomalías y que puede resultar útiles de implementar en procesos de limpieza de datos. Sin embargo, ¿Es un análisis estático o puede extrapolarse a registros nuevos?¿Es una metodología lo suficientemente robusta como para ser implementada en producción?. En este notebook se revisará cómo se comportan estos modelos con la entrada de nuevos registros y alternativas para replicar la lógica de limpieza.\n",
    "\n",
    "### 2.¿Qué Random Forest?\n",
    "Es un modelo que modifica el bagging tradicional de árboles de decisión y le agrega componentes de aleatoriedad en la selección de variables. De esta forma, cada arbol es entrenado con un subconjunto de variables seleccionadas de forma aleatoria y con un set de registros también aleatorio. El resultado de esto es un un conjunto de arboles entrenados de forma independiente e imparcial, los cuales son promediados y así se reduce la variación existente entre los modelos. El resultado de esta técnica es un modelo que tiene mejores resultados respecto a un arbol simple o bagging mediante sampling de registros.\n",
    "\n",
    "\n",
    "### 3.¿Por qué usarlo?\n",
    "- Es un modelo sencillo de entrenar y produce muy buenos resultaltados, sobretodo en datasets medianos/grandes.\n",
    "- La apertura de la interacción de las variables puede dar luces de la interacción e importancia de las variables.\n",
    "- Menor nivel de overfitting respecto a un arbol de decisión\n"
   ]
  },
  {
   "cell_type": "markdown",
   "metadata": {},
   "source": [
    "Fuentes\n",
    "\n",
    "- https://www.aprendemachinelearning.com/random-forest-el-poder-del-ensamble/\n",
    "- Material del curso The Power of Random dictado por Dean Abbott en KNIME Summit Spring 2019\n",
    "- https://quantdare.com/random-forest-vs-simple-tree/"
   ]
  },
  {
   "cell_type": "markdown",
   "metadata": {},
   "source": [
    "### 3. Probando el algoritmo\n",
    "\n",
    "#### 3.1 Creando el Dataset\n",
    "Lo primero será tener un dataset de prueba, para ello se utilizarán los generadores de datos diponibles en [scikit-learn](https://scikit-learn.org/stable/modules/classes.html#samples-generator). En este caso se quiere probar la performance de los modelos con bases de gran tamaño, de modo que se construirá un dataset compuesto por 25 millones de registros y 20 columnas."
   ]
  },
  {
   "cell_type": "code",
   "execution_count": 36,
   "metadata": {},
   "outputs": [],
   "source": [
    "from sklearn.ensemble import IsolationForest\n",
    "from sklearn.datasets.samples_generator import make_blobs\n",
    "import numpy as np\n",
    "import pandas as pd\n",
    "import seaborn as sns\n",
    "import random\n",
    "import matplotlib.pyplot as plt\n",
    "import hdbscan\n",
    "from datetime import datetime\n",
    "from sklearn.ensemble import RandomForestClassifier\n",
    "from sklearn.model_selection import train_test_split\n",
    "from sklearn.utils import resample\n",
    "from sklearn.metrics import accuracy_score"
   ]
  },
  {
   "cell_type": "code",
   "execution_count": 10,
   "metadata": {},
   "outputs": [
    {
     "data": {
      "text/html": [
       "<div>\n",
       "<style scoped>\n",
       "    .dataframe tbody tr th:only-of-type {\n",
       "        vertical-align: middle;\n",
       "    }\n",
       "\n",
       "    .dataframe tbody tr th {\n",
       "        vertical-align: top;\n",
       "    }\n",
       "\n",
       "    .dataframe thead th {\n",
       "        text-align: right;\n",
       "    }\n",
       "</style>\n",
       "<table border=\"1\" class=\"dataframe\">\n",
       "  <thead>\n",
       "    <tr style=\"text-align: right;\">\n",
       "      <th></th>\n",
       "      <th>0</th>\n",
       "      <th>1</th>\n",
       "      <th>2</th>\n",
       "      <th>3</th>\n",
       "      <th>4</th>\n",
       "      <th>5</th>\n",
       "      <th>6</th>\n",
       "      <th>7</th>\n",
       "      <th>8</th>\n",
       "      <th>9</th>\n",
       "      <th>10</th>\n",
       "      <th>11</th>\n",
       "      <th>12</th>\n",
       "      <th>13</th>\n",
       "      <th>14</th>\n",
       "      <th>15</th>\n",
       "      <th>16</th>\n",
       "      <th>17</th>\n",
       "      <th>18</th>\n",
       "      <th>19</th>\n",
       "    </tr>\n",
       "  </thead>\n",
       "  <tbody>\n",
       "    <tr>\n",
       "      <td>count</td>\n",
       "      <td>1000000.000000</td>\n",
       "      <td>1000000.000000</td>\n",
       "      <td>1000000.000000</td>\n",
       "      <td>1000000.000000</td>\n",
       "      <td>1000000.000000</td>\n",
       "      <td>1000000.000000</td>\n",
       "      <td>1000000.000000</td>\n",
       "      <td>1000000.000000</td>\n",
       "      <td>1000000.000000</td>\n",
       "      <td>1000000.000000</td>\n",
       "      <td>1000000.000000</td>\n",
       "      <td>1000000.000000</td>\n",
       "      <td>1000000.000000</td>\n",
       "      <td>1000000.000000</td>\n",
       "      <td>1000000.000000</td>\n",
       "      <td>1000000.000000</td>\n",
       "      <td>1000000.000000</td>\n",
       "      <td>1000000.000000</td>\n",
       "      <td>1000000.000000</td>\n",
       "      <td>1000000.000000</td>\n",
       "    </tr>\n",
       "    <tr>\n",
       "      <td>mean</td>\n",
       "      <td>-1.180987</td>\n",
       "      <td>1.240578</td>\n",
       "      <td>3.020975</td>\n",
       "      <td>-1.746975</td>\n",
       "      <td>-0.291096</td>\n",
       "      <td>-2.836429</td>\n",
       "      <td>1.910870</td>\n",
       "      <td>-0.688452</td>\n",
       "      <td>-1.341357</td>\n",
       "      <td>0.386906</td>\n",
       "      <td>0.282403</td>\n",
       "      <td>2.045138</td>\n",
       "      <td>1.381275</td>\n",
       "      <td>-2.368303</td>\n",
       "      <td>0.165511</td>\n",
       "      <td>0.479028</td>\n",
       "      <td>2.622244</td>\n",
       "      <td>1.431891</td>\n",
       "      <td>-0.094469</td>\n",
       "      <td>0.008586</td>\n",
       "    </tr>\n",
       "    <tr>\n",
       "      <td>std</td>\n",
       "      <td>5.660561</td>\n",
       "      <td>5.552799</td>\n",
       "      <td>4.825853</td>\n",
       "      <td>5.399640</td>\n",
       "      <td>7.367955</td>\n",
       "      <td>5.247887</td>\n",
       "      <td>4.684554</td>\n",
       "      <td>5.646922</td>\n",
       "      <td>5.638823</td>\n",
       "      <td>7.233953</td>\n",
       "      <td>3.700956</td>\n",
       "      <td>4.185818</td>\n",
       "      <td>5.575288</td>\n",
       "      <td>6.238378</td>\n",
       "      <td>5.164511</td>\n",
       "      <td>6.766531</td>\n",
       "      <td>4.103338</td>\n",
       "      <td>5.340570</td>\n",
       "      <td>5.054180</td>\n",
       "      <td>4.395648</td>\n",
       "    </tr>\n",
       "    <tr>\n",
       "      <td>min</td>\n",
       "      <td>-14.026723</td>\n",
       "      <td>-13.762399</td>\n",
       "      <td>-9.373089</td>\n",
       "      <td>-13.751342</td>\n",
       "      <td>-13.526813</td>\n",
       "      <td>-14.019405</td>\n",
       "      <td>-10.934058</td>\n",
       "      <td>-12.046078</td>\n",
       "      <td>-12.918819</td>\n",
       "      <td>-13.407943</td>\n",
       "      <td>-11.266958</td>\n",
       "      <td>-8.417818</td>\n",
       "      <td>-12.521822</td>\n",
       "      <td>-13.408967</td>\n",
       "      <td>-13.518929</td>\n",
       "      <td>-13.355585</td>\n",
       "      <td>-9.117708</td>\n",
       "      <td>-12.643270</td>\n",
       "      <td>-13.866750</td>\n",
       "      <td>-11.090146</td>\n",
       "    </tr>\n",
       "    <tr>\n",
       "      <td>25%</td>\n",
       "      <td>-5.085020</td>\n",
       "      <td>-0.745230</td>\n",
       "      <td>-0.944357</td>\n",
       "      <td>-5.986434</td>\n",
       "      <td>-7.144318</td>\n",
       "      <td>-7.149665</td>\n",
       "      <td>-1.749823</td>\n",
       "      <td>-5.825424</td>\n",
       "      <td>-6.363767</td>\n",
       "      <td>-7.540214</td>\n",
       "      <td>-3.102793</td>\n",
       "      <td>-1.834611</td>\n",
       "      <td>-2.290033</td>\n",
       "      <td>-7.429729</td>\n",
       "      <td>-4.571022</td>\n",
       "      <td>-6.720977</td>\n",
       "      <td>-0.077673</td>\n",
       "      <td>-0.950104</td>\n",
       "      <td>-3.070485</td>\n",
       "      <td>-3.091744</td>\n",
       "    </tr>\n",
       "    <tr>\n",
       "      <td>50%</td>\n",
       "      <td>-1.278812</td>\n",
       "      <td>2.378955</td>\n",
       "      <td>5.082070</td>\n",
       "      <td>-1.781434</td>\n",
       "      <td>-2.384345</td>\n",
       "      <td>-3.957533</td>\n",
       "      <td>2.681590</td>\n",
       "      <td>-1.544589</td>\n",
       "      <td>-1.406795</td>\n",
       "      <td>0.206154</td>\n",
       "      <td>1.544931</td>\n",
       "      <td>2.784781</td>\n",
       "      <td>1.576957</td>\n",
       "      <td>-4.869856</td>\n",
       "      <td>1.505666</td>\n",
       "      <td>2.887753</td>\n",
       "      <td>2.673839</td>\n",
       "      <td>2.373062</td>\n",
       "      <td>0.620384</td>\n",
       "      <td>-0.392320</td>\n",
       "    </tr>\n",
       "    <tr>\n",
       "      <td>75%</td>\n",
       "      <td>2.676867</td>\n",
       "      <td>5.871548</td>\n",
       "      <td>6.934630</td>\n",
       "      <td>0.660719</td>\n",
       "      <td>7.767558</td>\n",
       "      <td>0.182053</td>\n",
       "      <td>5.039391</td>\n",
       "      <td>4.071191</td>\n",
       "      <td>2.015313</td>\n",
       "      <td>7.861989</td>\n",
       "      <td>3.256303</td>\n",
       "      <td>5.679863</td>\n",
       "      <td>5.122707</td>\n",
       "      <td>3.718944</td>\n",
       "      <td>4.295971</td>\n",
       "      <td>6.845691</td>\n",
       "      <td>5.942965</td>\n",
       "      <td>5.311248</td>\n",
       "      <td>3.518761</td>\n",
       "      <td>4.029159</td>\n",
       "    </tr>\n",
       "    <tr>\n",
       "      <td>max</td>\n",
       "      <td>13.556880</td>\n",
       "      <td>11.365369</td>\n",
       "      <td>12.875444</td>\n",
       "      <td>13.932041</td>\n",
       "      <td>13.317516</td>\n",
       "      <td>10.508688</td>\n",
       "      <td>13.945744</td>\n",
       "      <td>12.866711</td>\n",
       "      <td>12.837818</td>\n",
       "      <td>13.992286</td>\n",
       "      <td>8.164877</td>\n",
       "      <td>12.039185</td>\n",
       "      <td>13.975856</td>\n",
       "      <td>14.084059</td>\n",
       "      <td>11.620537</td>\n",
       "      <td>12.714821</td>\n",
       "      <td>12.484557</td>\n",
       "      <td>12.841678</td>\n",
       "      <td>11.263108</td>\n",
       "      <td>10.297150</td>\n",
       "    </tr>\n",
       "  </tbody>\n",
       "</table>\n",
       "</div>"
      ],
      "text/plain": [
       "                   0               1               2               3   \\\n",
       "count  1000000.000000  1000000.000000  1000000.000000  1000000.000000   \n",
       "mean        -1.180987        1.240578        3.020975       -1.746975   \n",
       "std          5.660561        5.552799        4.825853        5.399640   \n",
       "min        -14.026723      -13.762399       -9.373089      -13.751342   \n",
       "25%         -5.085020       -0.745230       -0.944357       -5.986434   \n",
       "50%         -1.278812        2.378955        5.082070       -1.781434   \n",
       "75%          2.676867        5.871548        6.934630        0.660719   \n",
       "max         13.556880       11.365369       12.875444       13.932041   \n",
       "\n",
       "                   4               5               6               7   \\\n",
       "count  1000000.000000  1000000.000000  1000000.000000  1000000.000000   \n",
       "mean        -0.291096       -2.836429        1.910870       -0.688452   \n",
       "std          7.367955        5.247887        4.684554        5.646922   \n",
       "min        -13.526813      -14.019405      -10.934058      -12.046078   \n",
       "25%         -7.144318       -7.149665       -1.749823       -5.825424   \n",
       "50%         -2.384345       -3.957533        2.681590       -1.544589   \n",
       "75%          7.767558        0.182053        5.039391        4.071191   \n",
       "max         13.317516       10.508688       13.945744       12.866711   \n",
       "\n",
       "                   8               9               10              11  \\\n",
       "count  1000000.000000  1000000.000000  1000000.000000  1000000.000000   \n",
       "mean        -1.341357        0.386906        0.282403        2.045138   \n",
       "std          5.638823        7.233953        3.700956        4.185818   \n",
       "min        -12.918819      -13.407943      -11.266958       -8.417818   \n",
       "25%         -6.363767       -7.540214       -3.102793       -1.834611   \n",
       "50%         -1.406795        0.206154        1.544931        2.784781   \n",
       "75%          2.015313        7.861989        3.256303        5.679863   \n",
       "max         12.837818       13.992286        8.164877       12.039185   \n",
       "\n",
       "                   12              13              14              15  \\\n",
       "count  1000000.000000  1000000.000000  1000000.000000  1000000.000000   \n",
       "mean         1.381275       -2.368303        0.165511        0.479028   \n",
       "std          5.575288        6.238378        5.164511        6.766531   \n",
       "min        -12.521822      -13.408967      -13.518929      -13.355585   \n",
       "25%         -2.290033       -7.429729       -4.571022       -6.720977   \n",
       "50%          1.576957       -4.869856        1.505666        2.887753   \n",
       "75%          5.122707        3.718944        4.295971        6.845691   \n",
       "max         13.975856       14.084059       11.620537       12.714821   \n",
       "\n",
       "                   16              17              18              19  \n",
       "count  1000000.000000  1000000.000000  1000000.000000  1000000.000000  \n",
       "mean         2.622244        1.431891       -0.094469        0.008586  \n",
       "std          4.103338        5.340570        5.054180        4.395648  \n",
       "min         -9.117708      -12.643270      -13.866750      -11.090146  \n",
       "25%         -0.077673       -0.950104       -3.070485       -3.091744  \n",
       "50%          2.673839        2.373062        0.620384       -0.392320  \n",
       "75%          5.942965        5.311248        3.518761        4.029159  \n",
       "max         12.484557       12.841678       11.263108       10.297150  "
      ]
     },
     "execution_count": 10,
     "metadata": {},
     "output_type": "execute_result"
    }
   ],
   "source": [
    "blobs, labels = make_blobs(n_samples=25000000, n_features=20,centers=10,random_state=9)\n",
    "\n",
    "nfeatures_original=pd.DataFrame(blobs)\n",
    "l=pd.DataFrame(data=labels,columns=[\"label\"])\n",
    "l['label']=l['label'].apply(lambda x: \"Label_\"+str(x))\n",
    "nfeatures_original=nfeatures_original.join(l)\n",
    "nfeatures_original.describe()"
   ]
  },
  {
   "cell_type": "markdown",
   "metadata": {},
   "source": [
    "De manera adicional, se agregarán 200 registros aleatorios para ensuciar un poco los datos originales"
   ]
  },
  {
   "cell_type": "code",
   "execution_count": 63,
   "metadata": {},
   "outputs": [],
   "source": [
    "adicionales=[]\n",
    "for i in range(0,200):\n",
    "    punto=[]\n",
    "    for j in range(0,(len(nfeatures_original.columns)-1)):\n",
    "        ran=( 1+random.uniform(0, 1))*random.randrange(round(nfeatures_original[j].min(),0), round(nfeatures_original[j].max(),0))+random.uniform(0, 1)\n",
    "        punto.append(ran)\n",
    "    \n",
    "    adicionales.append(punto)\n",
    "    \n",
    "ad=pd.DataFrame(adicionales)\n",
    "ad['label']='outlier'\n",
    "nfeatures_real= nfeatures_original.append(ad) \n",
    "\n",
    "nfeatures_real['es_outlier']=nfeatures_real['label'].apply(lambda x: 1 if x =='outlier' else 0)"
   ]
  },
  {
   "cell_type": "code",
   "execution_count": 56,
   "metadata": {},
   "outputs": [],
   "source": [
    "features=[x for x in range(0,20)]"
   ]
  },
  {
   "cell_type": "markdown",
   "metadata": {},
   "source": [
    "#### 3.1 Test de Isolation Forest: Qué reviente la máquina\n",
    "\n",
    "Ahora que tenemos un dataset de gran tamaño, lo primero es probar el algoritmo Isolation Forest con todos los datos disponibles para así tener noción de cuánto tiempo se demora en ejecutar. Así se podrá descartar/aprobar el uso de esa ténica con gran volumen de datos."
   ]
  },
  {
   "cell_type": "code",
   "execution_count": 27,
   "metadata": {
    "collapsed": true,
    "jupyter": {
     "outputs_hidden": true
    }
   },
   "outputs": [
    {
     "name": "stderr",
     "output_type": "stream",
     "text": [
      "/usr/local/lib/python3.7/site-packages/sklearn/ensemble/iforest.py:247: FutureWarning: behaviour=\"old\" is deprecated and will be removed in version 0.22. Please use behaviour=\"new\", which makes the decision_function change to match other anomaly detection algorithm API.\n",
      "  FutureWarning)\n",
      "/usr/local/lib/python3.7/site-packages/sklearn/ensemble/iforest.py:415: DeprecationWarning: threshold_ attribute is deprecated in 0.20 and will be removed in 0.22.\n",
      "  \" be removed in 0.22.\", DeprecationWarning)\n"
     ]
    }
   ],
   "source": [
    "startTime = datetime.now()\n",
    "isolation=IsolationForest(n_estimators=100, max_samples='auto', contamination=float(.12),max_features=1.0, n_jobs=-1, random_state=42, verbose=0)\n",
    "isolation.fit(nfeatures_real[features])\n",
    "pred = isolation.predict(nfeatures_real[features])\n",
    "endtime= datetime.now() \n",
    "\n",
    "nfeatures_real['isolation']= pred"
   ]
  },
  {
   "cell_type": "code",
   "execution_count": 28,
   "metadata": {},
   "outputs": [
    {
     "name": "stdout",
     "output_type": "stream",
     "text": [
      "Tiempo de ejecución:  0:00:58.510841\n"
     ]
    }
   ],
   "source": [
    " print(\"Tiempo de ejecución: \", endtime- startTime)"
   ]
  },
  {
   "cell_type": "markdown",
   "metadata": {},
   "source": [
    "#### 3.2 Performance usando una muestra del dataset\n",
    "\n",
    "Si bien el modelo pudo procesar los 25 millones de registros en apenas 1 minuto, aún queda pendiente validar si es factible tomar una pequeña muestra para entrenar y luego extrapolar al dataset completo. Para esto se usará una muestra de 1 millón de registros seleccionados aleatoriamente.Se entrenará un Isolation forest con esta muestra y luego se usará este modelo para predecir el resultado de los otros 24 millones de registros."
   ]
  },
  {
   "cell_type": "code",
   "execution_count": 64,
   "metadata": {},
   "outputs": [],
   "source": [
    "nfeatures_real_s=resample(nfeatures_real, n_samples=1000000)"
   ]
  },
  {
   "cell_type": "code",
   "execution_count": 68,
   "metadata": {},
   "outputs": [
    {
     "name": "stderr",
     "output_type": "stream",
     "text": [
      "/usr/local/lib/python3.7/site-packages/sklearn/ensemble/iforest.py:247: FutureWarning: behaviour=\"old\" is deprecated and will be removed in version 0.22. Please use behaviour=\"new\", which makes the decision_function change to match other anomaly detection algorithm API.\n",
      "  FutureWarning)\n",
      "/usr/local/lib/python3.7/site-packages/sklearn/ensemble/iforest.py:415: DeprecationWarning: threshold_ attribute is deprecated in 0.20 and will be removed in 0.22.\n",
      "  \" be removed in 0.22.\", DeprecationWarning)\n",
      "/usr/local/lib/python3.7/site-packages/ipykernel_launcher.py:7: SettingWithCopyWarning: \n",
      "A value is trying to be set on a copy of a slice from a DataFrame.\n",
      "Try using .loc[row_indexer,col_indexer] = value instead\n",
      "\n",
      "See the caveats in the documentation: http://pandas.pydata.org/pandas-docs/stable/user_guide/indexing.html#returning-a-view-versus-a-copy\n",
      "  import sys\n"
     ]
    }
   ],
   "source": [
    "isolation3=IsolationForest(n_estimators=100, max_samples='auto', contamination=float(.12),max_features=1.0, n_jobs=-1, random_state=42, verbose=0)\n",
    "isolation3.fit(nfeatures_real_s[features])\n",
    "\n",
    "pred = isolation.predict(nfeatures_real_s[features])\n",
    "endtime= datetime.now() \n",
    "\n",
    "nfeatures_real_s['isolation']= pred"
   ]
  },
  {
   "cell_type": "markdown",
   "metadata": {},
   "source": [
    "Considerando que:\n",
    "\n",
    " - Alternativa 1: Entrenar I.F con todo el dataset\n",
    " - Alternativa 2: Entrenar I.F con una muestra y luego extrapolar a todo el dataset\n",
    " \n",
    " Si bien la alternativa 1 finalizó en un tiempo de ejecución aceptable, no tuvo buenos resultados clasificando los valores. La gran parte de los valores atípicos que detectó corresponden a registros válidos de otras categorías. No así la alternativa 2, que concentra la mayor cantidad de atípicos en los registros de ruido que se insertaron originalmente.\n",
    " \n",
    " "
   ]
  },
  {
   "cell_type": "code",
   "execution_count": 61,
   "metadata": {},
   "outputs": [
    {
     "data": {
      "text/plain": [
       "Text(0.5, 0, 'Isolation en 1M')"
      ]
     },
     "execution_count": 61,
     "metadata": {},
     "output_type": "execute_result"
    },
    {
     "data": {
      "image/png": "[encoded data removed]",
      "text/plain": [
       "<Figure size 1440x360 with 2 Axes>"
      ]
     },
     "metadata": {
      "needs_background": "light"
     },
     "output_type": "display_data"
    }
   ],
   "source": [
    "f=plt.figure(figsize=(20, 5))\n",
    "\n",
    "gs = plt.GridSpec(1,2,f,hspace=0.5)\n",
    "\n",
    "plt.subplot(gs[0,0])\n",
    "ax=sns.countplot(data=nfeatures_real,x='isolation',hue='label')\n",
    "plt.legend('')  \n",
    "ax.set_xlabel('Isolation en 25M')\n",
    "\n",
    "plt.subplot(gs[0,1])\n",
    "ax1=sns.countplot(data=nfeatures_real_s,x='isolation',hue='label')\n",
    "plt.legend(loc='center left', bbox_to_anchor=(1, 0.5))\n",
    "ax1.set_xlabel('Isolation en 1M')"
   ]
  },
  {
   "cell_type": "markdown",
   "metadata": {},
   "source": [
    "#### 3.3 Extrapolando con un Random Forest.\n",
    "\n",
    "Hasta este punto se ha mostrado que una buena alternativa es samplear los datos originales para obtener un Isolation Forest entrenado y luego utilizar este para obtener la limpieza de todos los registros. Considerando dicho contexto, se tiene un dataset clasificado en 2 tipos (atípico/no-atípico) y se necesita validar que ocurre en otro conjunto de información, lo descrito anteriormente es muy similar a resolver un problema de clasificación tradicional, de modo que puede ser atractivo probar modelos de alta eficiencia en sitaciones de este tipo. En esta tercera etapa se comparará la precisión del I.F extendido con un Random Forest.El objetivo es ver cual de las dos alternativas es más certeza en detectar los datos aleatorios inyectados de forma artificial"
   ]
  },
  {
   "cell_type": "code",
   "execution_count": 70,
   "metadata": {},
   "outputs": [
    {
     "name": "stderr",
     "output_type": "stream",
     "text": [
      "/usr/local/lib/python3.7/site-packages/ipykernel_launcher.py:1: SettingWithCopyWarning: \n",
      "A value is trying to be set on a copy of a slice from a DataFrame.\n",
      "Try using .loc[row_indexer,col_indexer] = value instead\n",
      "\n",
      "See the caveats in the documentation: http://pandas.pydata.org/pandas-docs/stable/user_guide/indexing.html#returning-a-view-versus-a-copy\n",
      "  \"\"\"Entry point for launching an IPython kernel.\n"
     ]
    }
   ],
   "source": [
    "nfeatures_real_s['isolation']=nfeatures_real_s['isolation'].apply(lambda x: 0 if x==1 else 1)"
   ]
  },
  {
   "cell_type": "code",
   "execution_count": 71,
   "metadata": {},
   "outputs": [],
   "source": [
    "x_train, x_test, y_train, y_test = train_test_split( nfeatures_real_s[features], nfeatures_real_s['isolation'], test_size=0.8, random_state=42)"
   ]
  },
  {
   "cell_type": "code",
   "execution_count": 72,
   "metadata": {},
   "outputs": [],
   "source": [
    "random_forest = RandomForestClassifier(n_jobs=2, random_state=0)"
   ]
  },
  {
   "cell_type": "code",
   "execution_count": 73,
   "metadata": {},
   "outputs": [
    {
     "name": "stderr",
     "output_type": "stream",
     "text": [
      "/usr/local/lib/python3.7/site-packages/sklearn/ensemble/forest.py:245: FutureWarning: The default value of n_estimators will change from 10 in version 0.20 to 100 in 0.22.\n",
      "  \"10 in version 0.20 to 100 in 0.22.\", FutureWarning)\n"
     ]
    },
    {
     "data": {
      "text/plain": [
       "0.93104125"
      ]
     },
     "execution_count": 73,
     "metadata": {},
     "output_type": "execute_result"
    }
   ],
   "source": [
    "random_forest.fit(x_train,y_train)\n",
    "accuracy=accuracy_score(y_test, random_forest.predict(x_test))\n",
    "accuracy"
   ]
  },
  {
   "cell_type": "code",
   "execution_count": 74,
   "metadata": {},
   "outputs": [
    {
     "data": {
      "text/plain": [
       "0.928252349530094"
      ]
     },
     "execution_count": 74,
     "metadata": {},
     "output_type": "execute_result"
    }
   ],
   "source": [
    "accuracy=accuracy_score(nfeatures_real['es_outlier'], random_forest.predict(nfeatures_real[features]))\n",
    "accuracy"
   ]
  },
  {
   "cell_type": "code",
   "execution_count": 76,
   "metadata": {},
   "outputs": [
    {
     "name": "stderr",
     "output_type": "stream",
     "text": [
      "/usr/local/lib/python3.7/site-packages/sklearn/ensemble/iforest.py:415: DeprecationWarning: threshold_ attribute is deprecated in 0.20 and will be removed in 0.22.\n",
      "  \" be removed in 0.22.\", DeprecationWarning)\n",
      "/usr/local/lib/python3.7/site-packages/sklearn/ensemble/iforest.py:415: DeprecationWarning: threshold_ attribute is deprecated in 0.20 and will be removed in 0.22.\n",
      "  \" be removed in 0.22.\", DeprecationWarning)\n"
     ]
    },
    {
     "data": {
      "text/plain": [
       "0.0"
      ]
     },
     "execution_count": 76,
     "metadata": {},
     "output_type": "execute_result"
    }
   ],
   "source": [
    "pred = isolation3.predict(nfeatures_real[features])\n",
    "endtime= datetime.now() \n",
    "nfeatures_real['isolation_proyectado']= pred\n",
    "nfeatures_real['isolation_proyectado']=nfeatures_real['isolation_proyectado'].apply(lambda x: 0 if x==1 else 1)\n",
    "\n"
   ]
  },
  {
   "cell_type": "code",
   "execution_count": 77,
   "metadata": {},
   "outputs": [
    {
     "data": {
      "text/plain": [
       "0.8794281143771245"
      ]
     },
     "execution_count": 77,
     "metadata": {},
     "output_type": "execute_result"
    }
   ],
   "source": [
    "accuracy=accuracy_score(nfeatures_real['es_outlier'], nfeatures_real['isolation_proyectado'])\n",
    "accuracy"
   ]
  },
  {
   "cell_type": "code",
   "execution_count": null,
   "metadata": {},
   "outputs": [],
   "source": []
  }
 ],
 "metadata": {
  "kernelspec": {
   "display_name": "Python 3",
   "language": "python",
   "name": "python3"
  },
  "language_info": {
   "codemirror_mode": {
    "name": "ipython",
    "version": 3
   },
   "file_extension": ".py",
   "mimetype": "text/x-python",
   "name": "python",
   "nbconvert_exporter": "python",
   "pygments_lexer": "ipython3",
   "version": "3.7.4"
  }
 },
 "nbformat": 4,
 "nbformat_minor": 4
}
